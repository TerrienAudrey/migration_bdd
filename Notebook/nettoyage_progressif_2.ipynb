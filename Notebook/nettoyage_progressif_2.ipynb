{
 "cells": [
  {
   "cell_type": "code",
   "execution_count": 2,
   "metadata": {},
   "outputs": [],
   "source": [
    "import pandas as pd\n",
    "import json"
   ]
  },
  {
   "cell_type": "code",
   "execution_count": null,
   "metadata": {},
   "outputs": [],
   "source": [
    "# Charger les fichiers JSON en DataFrames\n",
    "with open(\"fichier_1.json\", \"r\", encoding=\"utf-8\") as file1:\n",
    "    df1 = pd.DataFrame(json.load(file1))\n",
    "\n",
    "with open(\"fichier_2.json\", \"r\", encoding=\"utf-8\") as file2:\n",
    "    df2 = pd.DataFrame(json.load(file2))\n",
    "\n",
    "# Trouver les lignes où la_street de df1 correspond à or_street de df2\n",
    "matching_rows = df1[df1['la_street'].isin(df2['or_street'])]\n",
    "\n",
    "# Afficher les résultats\n",
    "print(matching_rows)\n",
    "\n",
    "# Optionnel : Enregistrer les résultats dans un fichier JSON\n",
    "matching_rows.to_json(\"matching_addresses.json\", orient=\"records\", force_ascii=False, indent=4)\n",
    "\n",
    "print(\"Les correspondances ont été enregistrées dans 'matching_addresses.json'\")"
   ]
  },
  {
   "cell_type": "code",
   "execution_count": null,
   "metadata": {},
   "outputs": [],
   "source": [
    "import pandas as pd\n",
    "import json\n",
    "import re\n",
    "\n",
    "# Fonction de normalisation des adresses\n",
    "def normalize_address(address):\n",
    "    return re.sub(r'[^a-zA-Z0-9 .\\-()]', '', address).lower().strip()\n",
    "\n",
    "# Charger les fichiers JSON en DataFrames\n",
    "with open(\"logistic_address_20250213_084740.json\", \"r\", encoding=\"utf-8\") as file1:\n",
    "    df1 = pd.DataFrame(json.load(file1))\n",
    "\n",
    "with open(\"companies_20250210_165746.json\", \"r\", encoding=\"utf-8\") as file2:\n",
    "    df2 = pd.DataFrame(json.load(file2))\n",
    "\n",
    "# Appliquer la normalisation aux colonnes concernées\n",
    "df1['normalized_la_street'] = df1['la_street'].apply(normalize_address)\n",
    "df2['normalized_or_street'] = df2['or_street'].apply(normalize_address)\n",
    "\n",
    "# Trouver les lignes où la_street de df1 correspond à or_street de df2\n",
    "matching_rows = df1[df1['normalized_la_street'].isin(df2['normalized_or_street'])]\n",
    "\n",
    "# Afficher les résultats\n",
    "print(matching_rows)\n",
    "\n",
    "# Optionnel : Enregistrer les résultats dans un fichier JSON\n",
    "matching_rows.to_json(\"matching_addresses.json\", orient=\"records\", force_ascii=False, indent=4)\n",
    "\n",
    "print(\"Les correspondances ont été enregistrées dans 'matching_addresses.json'\")"
   ]
  },
  {
   "cell_type": "code",
   "execution_count": null,
   "metadata": {},
   "outputs": [],
   "source": []
  }
 ],
 "metadata": {
  "kernelspec": {
   "display_name": ".migration_bdd",
   "language": "python",
   "name": "python3"
  },
  "language_info": {
   "codemirror_mode": {
    "name": "ipython",
    "version": 3
   },
   "file_extension": ".py",
   "mimetype": "text/x-python",
   "name": "python",
   "nbconvert_exporter": "python",
   "pygments_lexer": "ipython3",
   "version": "3.10.6"
  }
 },
 "nbformat": 4,
 "nbformat_minor": 2
}
